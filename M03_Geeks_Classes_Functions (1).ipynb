{
 "cells": [
  {
   "cell_type": "markdown",
   "id": "08b38e74",
   "metadata": {},
   "source": [
    "Lame GeeksforGeeks class function, a completely STUPID use of a class which has nothing to do in this case with object orientation:  https://practice.geeksforgeeks.org/problems/sort-an-array-of-0s-1s-and-2s, and includes no test of the function.  So I wrote my own class, a meaningful class, a list called Arra."
   ]
  },
  {
   "cell_type": "code",
   "execution_count": 3,
   "id": "56bca93c",
   "metadata": {},
   "outputs": [
    {
     "name": "stdout",
     "output_type": "stream",
     "text": [
      "arr1 = [5, 3, 2, 4, 2, 1, 1, 0, 1]\n",
      "After sort012(), arr1 = [0, 1, 1, 1, 2, 2, 3, 4, 5]\n",
      "Test empty array:\n",
      "[]\n",
      "[]\n"
     ]
    }
   ],
   "source": [
    "class Arra():\n",
    "    def __init__(self, list = []):\n",
    "        self.arr = list\n",
    "    def sort012(self):  # Replaced the lame GeeksforGeek function arguments (self,arr,n)\n",
    "        self.arr.sort() # again, pretty pointless.  Could write a bubble sort or other algorithm, but why reinvent the wheel?\n",
    "    def show(self):\n",
    "        print(self.arr)\n",
    "\n",
    "arr1 = Arra([5,3,2,4,2, 1, 1, 0, 1])\n",
    "print(f'arr1 = {arr1.arr}')\n",
    "arr1.sort012()\n",
    "print('After sort012(), arr1 = ', end=\"\"); arr1.show()\n",
    "\n",
    "print('Test empty array:')\n",
    "arre = Arra()  ## test empty array\n",
    "arre.show()\n",
    "arre.sort012()\n",
    "arre.show()"
   ]
  },
  {
   "cell_type": "markdown",
   "id": "cf4cb914",
   "metadata": {},
   "source": [
    "Lambda function GeeksforGeeks exercise https://practice.geeksforgeeks.org/problems/binary-search-1587115620/ \n",
    "Given a sorted array of size N and an integer K, find the position(0-based indexing) at which K is present in the array using binary search.  \n",
    "ANOTHER LAME exercise.  You can't do a single-line lambda binary search AFAIK.\n",
    "Can use the index() function as lambda function, non binary search.  Though why bother, since index() does the job alone."
   ]
  },
  {
   "cell_type": "code",
   "execution_count": 11,
   "id": "3155b770",
   "metadata": {},
   "outputs": [
    {
     "name": "stdout",
     "output_type": "stream",
     "text": [
      "Via binarysearch(), location of 6 in list  [2, 3, 4, 5, 6, 7, 8, 9]  =  4\n",
      "Via binarysearch(), location of 2 in list  [2, 3, 4, 5, 6, 7, 8, 9]  =  0\n",
      "Via binarysearch(), location of 2 in list  [2]  is  0\n",
      "2  not found in (empty) array\n",
      "Via binarysearch(), location of 2 in list  []  is  None\n",
      "location of 6 in list  [2, 3, 4, 5, 6, 7, 8, 9]  =  4\n",
      "location of 2 in list  [2, 3, 4, 5, 6, 7, 8, 9]  =  0\n"
     ]
    },
    {
     "ename": "ValueError",
     "evalue": "0 is not in list",
     "output_type": "error",
     "traceback": [
      "\u001b[1;31m---------------------------------------------------------------------------\u001b[0m",
      "\u001b[1;31mValueError\u001b[0m                                Traceback (most recent call last)",
      "Cell \u001b[1;32mIn[11], line 43\u001b[0m\n\u001b[0;32m     41\u001b[0m \u001b[38;5;28mprint\u001b[39m (\u001b[38;5;124m'\u001b[39m\u001b[38;5;124mlocation of 6 in list \u001b[39m\u001b[38;5;124m'\u001b[39m, arr1, \u001b[38;5;124m'\u001b[39m\u001b[38;5;124m = \u001b[39m\u001b[38;5;124m'\u001b[39m, loc(arr1,\u001b[38;5;241m6\u001b[39m))\n\u001b[0;32m     42\u001b[0m \u001b[38;5;28mprint\u001b[39m (\u001b[38;5;124m'\u001b[39m\u001b[38;5;124mlocation of 2 in list \u001b[39m\u001b[38;5;124m'\u001b[39m, arr1, \u001b[38;5;124m'\u001b[39m\u001b[38;5;124m = \u001b[39m\u001b[38;5;124m'\u001b[39m, loc(arr1,\u001b[38;5;241m2\u001b[39m))\n\u001b[1;32m---> 43\u001b[0m \u001b[38;5;28mprint\u001b[39m (\u001b[38;5;124m'\u001b[39m\u001b[38;5;124mlocation of 0 in list \u001b[39m\u001b[38;5;124m'\u001b[39m, arr1, \u001b[38;5;124m'\u001b[39m\u001b[38;5;124m = \u001b[39m\u001b[38;5;124m'\u001b[39m, loc(arr1,\u001b[38;5;241m0\u001b[39m))\n",
      "Cell \u001b[1;32mIn[11], line 38\u001b[0m, in \u001b[0;36m<lambda>\u001b[1;34m(arr, k)\u001b[0m\n\u001b[0;32m     34\u001b[0m \u001b[38;5;28mprint\u001b[39m(\u001b[38;5;124m'\u001b[39m\u001b[38;5;124mVia binarysearch(), location of\u001b[39m\u001b[38;5;124m'\u001b[39m, k, \u001b[38;5;124m'\u001b[39m\u001b[38;5;124min list \u001b[39m\u001b[38;5;124m'\u001b[39m, arrn, \u001b[38;5;124m'\u001b[39m\u001b[38;5;124m is \u001b[39m\u001b[38;5;124m'\u001b[39m, binarysearch(arrn, \u001b[38;5;241m2\u001b[39m))\n\u001b[0;32m     37\u001b[0m \u001b[38;5;66;03m## lambda function: \u001b[39;00m\n\u001b[1;32m---> 38\u001b[0m loc \u001b[38;5;241m=\u001b[39m \u001b[38;5;28;01mlambda\u001b[39;00m arr, k : arr\u001b[38;5;241m.\u001b[39mindex(k)\n\u001b[0;32m     40\u001b[0m \u001b[38;5;66;03m## test the lambda function:  \u001b[39;00m\n\u001b[0;32m     41\u001b[0m \u001b[38;5;28mprint\u001b[39m (\u001b[38;5;124m'\u001b[39m\u001b[38;5;124mlocation of 6 in list \u001b[39m\u001b[38;5;124m'\u001b[39m, arr1, \u001b[38;5;124m'\u001b[39m\u001b[38;5;124m = \u001b[39m\u001b[38;5;124m'\u001b[39m, loc(arr1,\u001b[38;5;241m6\u001b[39m))\n",
      "\u001b[1;31mValueError\u001b[0m: 0 is not in list"
     ]
    }
   ],
   "source": [
    "def binarysearch(arr, k):  ## Assume arr is a sorted list []  Find index of integer k in the list\n",
    "    start = 0\n",
    "    end = len(arr) - 1\n",
    "    if (end < 0):\n",
    "        print(k,' not found in (empty) array')\n",
    "        return None\n",
    "    index = (start + end)//2\n",
    "    if (end > 0):\n",
    "        while (start <= end):\n",
    "            index = (start + end)//2\n",
    "            if (arr[index] == k):\n",
    "                return index\n",
    "            elif (arr[index] > k):  # k is in first half\n",
    "                end = index - 1\n",
    "            else:  # k is in second half\n",
    "                start = index + 1\n",
    "    if (arr[index] != k): # not found?\n",
    "        print(k,' not found in array')\n",
    "        return None\n",
    "    else: return index\n",
    "      \n",
    "arr1 = [2,3,4,5,6,7,8,9]\n",
    "\n",
    "print ('Via binarysearch(), location of 6 in list ', arr1, ' = ', binarysearch(arr1, 6))\n",
    "print ('Via binarysearch(), location of 2 in list ', arr1, ' = ', binarysearch(arr1, 2))\n",
    "#print ('Via binarysearch(), location of 0 in list ', arr1, ' = ', binarysearch(arr1, 0))\n",
    "\n",
    "arr0 = [2]\n",
    "k = 2\n",
    "print('Via binarysearch(), location of', k, 'in list ', arr0, ' is ', binarysearch(arr0, 2))\n",
    "\n",
    "arrn = []\n",
    "k = 2\n",
    "print('Via binarysearch(), location of', k, 'in list ', arrn, ' is ', binarysearch(arrn, 2))\n",
    "\n",
    "\n",
    "## lambda function: \n",
    "loc = lambda arr, k : arr.index(k)\n",
    "\n",
    "## test the lambda function:  \n",
    "print ('location of 6 in list ', arr1, ' = ', loc(arr1,6))\n",
    "print ('location of 2 in list ', arr1, ' = ', loc(arr1,2))\n",
    "print ('location of 0 in list ', arr1, ' = ', loc(arr1,0))"
   ]
  },
  {
   "cell_type": "code",
   "execution_count": null,
   "id": "53bba9a9",
   "metadata": {},
   "outputs": [],
   "source": []
  }
 ],
 "metadata": {
  "kernelspec": {
   "display_name": "Python 3 (ipykernel)",
   "language": "python",
   "name": "python3"
  },
  "language_info": {
   "codemirror_mode": {
    "name": "ipython",
    "version": 3
   },
   "file_extension": ".py",
   "mimetype": "text/x-python",
   "name": "python",
   "nbconvert_exporter": "python",
   "pygments_lexer": "ipython3",
   "version": "3.11.5"
  }
 },
 "nbformat": 4,
 "nbformat_minor": 5
}
